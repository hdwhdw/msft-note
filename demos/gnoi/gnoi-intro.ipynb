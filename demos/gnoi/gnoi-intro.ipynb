{
 "cells": [
  {
   "cell_type": "markdown",
   "id": "a64e857e",
   "metadata": {},
   "source": [
    "# Introduction to Protocol Buffers (Protobuf)\n",
    "\n",
    "Protocol Buffers (Protobuf) is a language-neutral, platform-neutral, extensible mechanism for serializing structured data. Developed by Google, Protobuf is used to define data structures and services, and to serialize data efficiently for communication between programs.\n",
    "\n",
    "**Key Features:**\n",
    "- Compact and fast serialization format.\n",
    "- Strongly typed schema definition.\n",
    "- Supports code generation for multiple languages (e.g., Go, Python, Java).\n",
    "\n",
    "**Example `.proto` file:**"
   ]
  },
  {
   "cell_type": "code",
   "execution_count": null,
   "id": "c9be4346",
   "metadata": {
    "vscode": {
     "languageId": "protobuf"
    }
   },
   "outputs": [],
   "source": [
    "syntax = \"proto3\";\n",
    "\n",
    "package example;\n",
    "\n",
    "// Message definition\n",
    "message Person {\n",
    "  string name = 1;\n",
    "  int32 id = 2;\n",
    "  string email = 3;\n",
    "}"
   ]
  },
  {
   "cell_type": "markdown",
   "id": "b3292119",
   "metadata": {},
   "source": [
    "# Introduction to gRPC\n",
    "\n",
    "gRPC is a high-performance, open-source universal RPC (Remote Procedure Call) framework developed by Google. It enables communication between distributed services using HTTP/2 for transport, Protocol Buffers for interface definition, and provides features such as authentication, load balancing, and more.\n",
    "\n",
    "**How gRPC uses Protobuf:**\n",
    "- Service contracts (APIs) are defined in `.proto` files.\n",
    "- Protobuf messages define the data structures exchanged.\n",
    "- Code generation tools create client and server stubs in various languages.\n",
    "\n",
    "**Typical gRPC workflow:**\n",
    "1. Define service and messages in a `.proto` file.\n",
    "2. Generate code for server and client.\n",
    "3. Implement server logic and call services from clients."
   ]
  },
  {
   "cell_type": "markdown",
   "id": "ed96a284",
   "metadata": {},
   "source": [
    "# Simple Example of gRPC\n",
    "\n",
    "Below is a basic example of a gRPC service definition in Protobuf, followed by a demonstration of how to implement a server and client in Go.\n",
    "\n",
    "**Service Definition (`helloworld.proto`):**"
   ]
  },
  {
   "cell_type": "code",
   "execution_count": null,
   "id": "0889ca28",
   "metadata": {
    "vscode": {
     "languageId": "protobuf"
    }
   },
   "outputs": [],
   "source": [
    "syntax = \"proto3\";\n",
    "\n",
    "package helloworld;\n",
    "\n",
    "// The greeting service definition.\n",
    "service Greeter {\n",
    "  // Sends a greeting\n",
    "  rpc SayHello (HelloRequest) returns (HelloReply) {}\n",
    "}\n",
    "\n",
    "// The request message containing the user's name.\n",
    "message HelloRequest {\n",
    "  string name = 1;\n",
    "}\n",
    "\n",
    "// The response message containing the greetings.\n",
    "message HelloReply {\n",
    "  string message = 1;\n",
    "}"
   ]
  },
  {
   "cell_type": "markdown",
   "id": "0b067915",
   "metadata": {},
   "source": [
    "# Sample Go Code for gRPC\n",
    "\n",
    "Below is a simplified Go implementation of a gRPC server and client for the `Greeter` service.\n",
    "\n",
    "**Server Implementation:**"
   ]
  },
  {
   "cell_type": "code",
   "execution_count": null,
   "id": "7fcca546",
   "metadata": {
    "vscode": {
     "languageId": "go"
    }
   },
   "outputs": [],
   "source": [
    "package main\n",
    "\n",
    "import (\n",
    "    \"context\"\n",
    "    \"log\"\n",
    "    \"net\"\n",
    "\n",
    "    \"google.golang.org/grpc\"\n",
    "    pb \"path/to/helloworld\"\n",
    ")\n",
    "\n",
    "type server struct {\n",
    "    pb.UnimplementedGreeterServer\n",
    "}\n",
    "\n",
    "func (s *server) SayHello(ctx context.Context, in *pb.HelloRequest) (*pb.HelloReply, error) {\n",
    "    return &pb.HelloReply{Message: \"Hello \" + in.Name}, nil\n",
    "}\n",
    "\n",
    "func main() {\n",
    "    lis, err := net.Listen(\"tcp\", \":50051\")\n",
    "    if err != nil {\n",
    "        log.Fatalf(\"failed to listen: %v\", err)\n",
    "    }\n",
    "    s := grpc.NewServer()\n",
    "    pb.RegisterGreeterServer(s, &server{})\n",
    "    log.Println(\"Server listening at :50051\")\n",
    "    if err := s.Serve(lis); err != nil {\n",
    "        log.Fatalf(\"failed to serve: %v\", err)\n",
    "    }\n",
    "}"
   ]
  },
  {
   "cell_type": "markdown",
   "id": "e81d5a91",
   "metadata": {},
   "source": [
    "**Client Implementation:**"
   ]
  },
  {
   "cell_type": "code",
   "execution_count": null,
   "id": "07530000",
   "metadata": {
    "vscode": {
     "languageId": "go"
    }
   },
   "outputs": [],
   "source": [
    "package main\n",
    "\n",
    "import (\n",
    "    \"context\"\n",
    "    \"log\"\n",
    "    \"os\"\n",
    "    \"time\"\n",
    "\n",
    "    \"google.golang.org/grpc\"\n",
    "    pb \"path/to/helloworld\"\n",
    ")\n",
    "\n",
    "func main() {\n",
    "    conn, err := grpc.Dial(\"localhost:50051\", grpc.WithInsecure())\n",
    "    if err != nil {\n",
    "        log.Fatalf(\"did not connect: %v\", err)\n",
    "    }\n",
    "    defer conn.Close()\n",
    "    c := pb.NewGreeterClient(conn)\n",
    "\n",
    "    name := \"world\"\n",
    "    if len(os.Args) > 1 {\n",
    "        name = os.Args[1]\n",
    "    }\n",
    "    ctx, cancel := context.WithTimeout(context.Background(), time.Second)\n",
    "    defer cancel()\n",
    "    r, err := c.SayHello(ctx, &pb.HelloRequest{Name: name})\n",
    "    if err != nil {\n",
    "        log.Fatalf(\"could not greet: %v\", err)\n",
    "    }\n",
    "    log.Printf(\"Greeting: %s\", r.Message)\n",
    "}"
   ]
  },
  {
   "cell_type": "markdown",
   "id": "dea0d983",
   "metadata": {},
   "source": [
    "# What is gNOI?\n",
    "\n",
    "gNOI (gRPC Network Operations Interface) is a set of gRPC-based APIs designed for network device management and operations. It extends gRPC and Protobuf to provide standardized interfaces for common operational tasks on network devices, such as software installation, certificate management, and system reboot.\n",
    "\n",
    "**Key Points:**\n",
    "- gNOI defines a set of services for operational tasks.\n",
    "- Enables automation and consistency across network devices.\n",
    "- Uses Protobuf for message definitions and gRPC for transport.\n",
    "\n",
    "**Common gNOI Services:**\n",
    "- System (e.g., Time, Reboot)\n",
    "- Certificate Management\n",
    "- OS Installation"
   ]
  },
  {
   "cell_type": "markdown",
   "id": "cab6d53c",
   "metadata": {},
   "source": [
    "# Simple Examples of gNOI\n",
    "\n",
    "Below are examples of using gNOI services in Go, such as querying system time and rebooting a device.\n",
    "\n",
    "**Example: System.Time Request**"
   ]
  },
  {
   "cell_type": "code",
   "execution_count": null,
   "id": "54619119",
   "metadata": {
    "vscode": {
     "languageId": "go"
    }
   },
   "outputs": [],
   "source": [
    "import (\n",
    "    \"context\"\n",
    "    \"log\"\n",
    "    \"time\"\n",
    "\n",
    "    \"google.golang.org/grpc\"\n",
    "    gnoi_system \"github.com/openconfig/gnoi/system\"\n",
    ")\n",
    "\n",
    "func getSystemTime(address string) {\n",
    "    conn, err := grpc.Dial(address, grpc.WithInsecure())\n",
    "    if err != nil {\n",
    "        log.Fatalf(\"failed to connect: %v\", err)\n",
    "    }\n",
    "    defer conn.Close()\n",
    "\n",
    "    client := gnoi_system.NewSystemClient(conn)\n",
    "    ctx, cancel := context.WithTimeout(context.Background(), 5*time.Second)\n",
    "    defer cancel()\n",
    "\n",
    "    resp, err := client.Time(ctx, &gnoi_system.TimeRequest{})\n",
    "    if err != nil {\n",
    "        log.Fatalf(\"failed to get time: %v\", err)\n",
    "    }\n",
    "    log.Printf(\"System time: %v\", resp.GetTime())\n",
    "}"
   ]
  },
  {
   "cell_type": "markdown",
   "id": "eb9605d0",
   "metadata": {},
   "source": [
    "**Example: System.Reboot Request**"
   ]
  },
  {
   "cell_type": "code",
   "execution_count": null,
   "id": "7fd7d3f6",
   "metadata": {
    "vscode": {
     "languageId": "go"
    }
   },
   "outputs": [],
   "source": [
    "import (\n",
    "    \"context\"\n",
    "    \"log\"\n",
    "    \"time\"\n",
    "\n",
    "    \"google.golang.org/grpc\"\n",
    "    gnoi_system \"github.com/openconfig/gnoi/system\"\n",
    ")\n",
    "\n",
    "func rebootDevice(address string) {\n",
    "    conn, err := grpc.Dial(address, grpc.WithInsecure())\n",
    "    if err != nil {\n",
    "        log.Fatalf(\"failed to connect: %v\", err)\n",
    "    }\n",
    "    defer conn.Close()\n",
    "\n",
    "    client := gnoi_system.NewSystemClient(conn)\n",
    "    ctx, cancel := context.WithTimeout(context.Background(), 5*time.Second)\n",
    "    defer cancel()\n",
    "\n",
    "    _, err = client.Reboot(ctx, &gnoi_system.RebootRequest{Method: gnoi_system.RebootMethod_COLD})\n",
    "    if err != nil {\n",
    "        log.Fatalf(\"failed to reboot: %v\", err)\n",
    "    }\n",
    "    log.Println(\"Reboot command sent successfully\")\n",
    "}"
   ]
  }
 ],
 "metadata": {
  "language_info": {
   "name": "python"
  }
 },
 "nbformat": 4,
 "nbformat_minor": 5
}
